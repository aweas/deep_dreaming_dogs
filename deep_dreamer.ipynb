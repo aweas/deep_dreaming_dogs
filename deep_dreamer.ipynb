{
 "cells": [
  {
   "cell_type": "code",
   "execution_count": 24,
   "metadata": {},
   "outputs": [],
   "source": [
    "import tensorflow as tf\n",
    "import numpy as np\n",
    "import skimage.transform\n",
    "import matplotlib.pyplot as plt\n",
    "import warnings\n",
    "import tqdm\n",
    "warnings.filterwarnings('ignore')"
   ]
  },
  {
   "cell_type": "code",
   "execution_count": 2,
   "metadata": {},
   "outputs": [
    {
     "name": "stdout",
     "output_type": "stream",
     "text": [
      "INFO:tensorflow:Restoring parameters from saved_model/classifier.ckpt\n"
     ]
    }
   ],
   "source": [
    "# Load graph data\n",
    "loader = tf.train.import_meta_graph('saved_model/classifier.ckpt.meta')\n",
    "sess = tf.Session()\n",
    "loader.restore(sess,'saved_model/classifier.ckpt')\n",
    "graph = tf.get_default_graph()"
   ]
  },
  {
   "cell_type": "code",
   "execution_count": 3,
   "metadata": {},
   "outputs": [
    {
     "name": "stdout",
     "output_type": "stream",
     "text": [
      "['network_input/features', 'cnn/output']\n"
     ]
    }
   ],
   "source": [
    "# Find relevant ops\n",
    "print([op.name for op in graph.get_operations() if ('output' in op.name or 'features' in op.name) and '_1' not in op.name])"
   ]
  },
  {
   "cell_type": "code",
   "execution_count": 4,
   "metadata": {},
   "outputs": [],
   "source": [
    "# Grab them\n",
    "x = graph.get_tensor_by_name('network_input/features:0')\n",
    "y = graph.get_tensor_by_name('cnn/output:0')"
   ]
  },
  {
   "cell_type": "code",
   "execution_count": 17,
   "metadata": {},
   "outputs": [
    {
     "name": "stdout",
     "output_type": "stream",
     "text": [
      "[0.57561624 0.42438376] - cat\n",
      "[0.57313156 0.42686847] - cat\n"
     ]
    }
   ],
   "source": [
    "test_image = skimage.transform.resize(plt.imread('train/cat.0.jpg'), (128,128,3))\n",
    "res = sess.run(y, feed_dict={x: [test_image]})\n",
    "answer = 'cat' if res[0][0]>res[0][1] else 'dog'\n",
    "print(f'{res[0]} - {answer}')"
   ]
  },
  {
   "cell_type": "code",
   "execution_count": 27,
   "metadata": {},
   "outputs": [
    {
     "name": "stderr",
     "output_type": "stream",
     "text": [
      "100%|██████████████████████████████████████| 1000/1000 [00:23<00:00, 42.31it/s]\n"
     ]
    }
   ],
   "source": [
    "counter = 0\n",
    "for i in tqdm.trange(1000):\n",
    "    test_image = skimage.transform.resize(plt.imread(f'train/cat.{i}.jpg'), (128,128,3))\n",
    "    res = sess.run(y, feed_dict={x: [test_image]})\n",
    "    answer = 'cat' if res[0][0]>res[0][1] else 'dog'\n",
    "    if answer == 'cat':\n",
    "        counter+=1\n",
    "#     print(f'{res[0]} - {answer}')"
   ]
  },
  {
   "cell_type": "code",
   "execution_count": 28,
   "metadata": {},
   "outputs": [
    {
     "data": {
      "text/plain": [
       "1000"
      ]
     },
     "execution_count": 28,
     "metadata": {},
     "output_type": "execute_result"
    }
   ],
   "source": [
    "counter"
   ]
  },
  {
   "cell_type": "code",
   "execution_count": 7,
   "metadata": {},
   "outputs": [
    {
     "name": "stdout",
     "output_type": "stream",
     "text": [
      "[[0.57561624 0.42438376]]\n"
     ]
    }
   ],
   "source": [
    "print(res)"
   ]
  }
 ],
 "metadata": {
  "kernelspec": {
   "display_name": "Python 3",
   "language": "python",
   "name": "python3"
  },
  "language_info": {
   "codemirror_mode": {
    "name": "ipython",
    "version": 3
   },
   "file_extension": ".py",
   "mimetype": "text/x-python",
   "name": "python",
   "nbconvert_exporter": "python",
   "pygments_lexer": "ipython3",
   "version": "3.6.5"
  }
 },
 "nbformat": 4,
 "nbformat_minor": 2
}
